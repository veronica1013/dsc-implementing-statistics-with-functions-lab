{
 "cells": [
  {
   "cell_type": "markdown",
   "metadata": {},
   "source": [
    "# Implementing Statistics with Functions - Lab\n",
    "\n",
    "## Introduction \n",
    "In this lab you'll dive deep into calculating the measures of central tendency and dispersion introduced in previous lessons. You will code the formulas for these functions in Python which will require you to use the programming skills that you have gained in the other lessons of this section. Let's get started!\n",
    "\n",
    "## Objectives\n",
    "\n",
    "You will be able to:\n",
    "\n",
    "* Calculate the measures of dispersion for a dataset\n",
    "* Compare the different measures of dispersion\n",
    "* Calculate the measures of central tendency for a dataset\n",
    "* Compare the different measures of central tendency\n",
    "\n",
    "## Dataset\n",
    "\n",
    "For this lab, we'll use the [NHIS dataset](http://people.ucsc.edu/~cdobkin/NHIS%202007%20data.csv), which contains weights, heights, and some other attributes for a number of surveyed individuals. The context of this survey is outside the scope this lab, so we'll just go ahead and load the heights column as a list for us to run some simple statistical experiments. We'll use the `pandas` library to import the data into our Python environment. This process will be covered in detail in a later section. For now, we'll do this part for you to give you a head start.  \n",
    "\n",
    "Run the cell below to import the data. "
   ]
  },
  {
   "cell_type": "code",
   "execution_count": 1,
   "metadata": {},
   "outputs": [],
   "source": [
    "import pandas as pd\n",
    "df = pd.read_csv('nhis.csv')\n",
    "height = list(df['height'])"
   ]
  },
  {
   "cell_type": "markdown",
   "metadata": {},
   "source": [
    "We are only interested in the height column, so we saved it as a list in the variable `height` in the cell above. \n",
    "\n",
    "In the cells below:\n",
    "\n",
    "* Display the number of items in `height`\n",
    "* Slice and display the first 10 items from `height`"
   ]
  },
  {
   "cell_type": "code",
   "execution_count": 3,
   "metadata": {},
   "outputs": [
    {
     "data": {
      "text/plain": [
       "4785"
      ]
     },
     "execution_count": 3,
     "metadata": {},
     "output_type": "execute_result"
    }
   ],
   "source": [
    "# Replace None with appropriate code\n",
    "num_records = len(height)\n",
    "\n",
    "num_records # 4785"
   ]
  },
  {
   "cell_type": "code",
   "execution_count": 4,
   "metadata": {
    "scrolled": true
   },
   "outputs": [
    {
     "data": {
      "text/plain": [
       "[74, 70, 61, 68, 66, 98, 99, 70, 65, 64]"
      ]
     },
     "execution_count": 4,
     "metadata": {},
     "output_type": "execute_result"
    }
   ],
   "source": [
    "# Replace None with appropriate code\n",
    "first_10 = height[:10]\n",
    "\n",
    "first_10 # [74, 70, 61, 68, 66, 98, 99, 70, 65, 64]"
   ]
  },
  {
   "cell_type": "markdown",
   "metadata": {},
   "source": [
    "So, around 4800 records of height. That's great. Next, we'll try plotting some basic **_histograms_** for these records. \n",
    "\n",
    "## Plotting Histograms\n",
    "\n",
    "We'll begin by importing the `pyplot` module from the library `matplotlib` and setting an alias of `plt` for it (so that we only have to type `plt.` instead of `matplotlib.pyplot.` each time we want to use it).  Note that `plt` is considered the **_standard alias_** for Matplotlib.\n",
    "\n",
    "Run the cell below to import Matplotlib and use it to create a histogram of our `height` data with 8 different bins. "
   ]
  },
  {
   "cell_type": "code",
   "execution_count": 5,
   "metadata": {},
   "outputs": [],
   "source": [
    "# Run this cell without changes\n",
    "import matplotlib.pyplot as plt\n",
    "%matplotlib inline  \n",
    "# ^^This is a 'magic command' built into jupyter notebooks. We use it so that the visualization displays \n",
    "# in the notebook directly, instead of in a separate window.  "
   ]
  },
  {
   "cell_type": "markdown",
   "metadata": {},
   "source": [
    "Next, we'll use Matplotlib to create a histogram by passing in our data, as well as the parameter `bins=8`, into the `hist` function."
   ]
  },
  {
   "cell_type": "code",
   "execution_count": 6,
   "metadata": {},
   "outputs": [
    {
     "data": {
      "image/png": "[encoded data removed]",
      "text/plain": [
       "<Figure size 432x288 with 1 Axes>"
      ]
     },
     "metadata": {
      "needs_background": "light"
     },
     "output_type": "display_data"
    }
   ],
   "source": [
    "# Run this cell without changes\n",
    "# A histogram should display below\n",
    "plt.hist(height, bins=8);"
   ]
  },
  {
   "cell_type": "markdown",
   "metadata": {},
   "source": [
    "Do you spot anything unusual above? Some outliers, maybe?\n",
    "\n",
    "## Measures of Central Tendency\n",
    "\n",
    "### Calculating the Mean"
   ]
  },
  {
   "cell_type": "markdown",
   "metadata": {},
   "source": [
    "We're just beginning to dig into the data stored in `height`. We'll begin by writing a function to calculate the mean of the data.  Recall the formula for calculating mean:\n",
    "\n",
    "$$ \\Large \\bar{x} = \\frac{1}{n} \\sum_{i=1}^{n}x_i $$\n",
    "\n",
    "Using the Python skills you have learned so far, create a function `get_mean()` to perform the following tasks: \n",
    "* Input a list of numbers (like the height list we have above)\n",
    "* Calculate the sum of numbers and length of the list \n",
    "* Calculate mean from above, round off to 2 decimals and return it."
   ]
  },
  {
   "cell_type": "code",
   "execution_count": 7,
   "metadata": {},
   "outputs": [
    {
     "name": "stdout",
     "output_type": "stream",
     "text": [
      "3.0\n",
      "2.5\n"
     ]
    }
   ],
   "source": [
    "def get_mean(data):\n",
    "    # Replace None with appropriate code\n",
    "    mean = sum(data) / len(data)\n",
    "    \n",
    "    return round(mean,2)\n",
    "\n",
    "test1 = [5, 4, 1, 3, 2]\n",
    "test2 = [4, 2, 3, 1]\n",
    "\n",
    "print(get_mean(test1)) # 3.0\n",
    "print(get_mean(test2)) # 2.5"
   ]
  },
  {
   "cell_type": "markdown",
   "metadata": {},
   "source": [
    "Now, we'll test the function by passing in the height list."
   ]
  },
  {
   "cell_type": "code",
   "execution_count": 8,
   "metadata": {},
   "outputs": [
    {
     "name": "stdout",
     "output_type": "stream",
     "text": [
      "Sample Mean: 69.58\n"
     ]
    }
   ],
   "source": [
    "# Run this cell without changes\n",
    "mean = get_mean(height)\n",
    "\n",
    "print(\"Sample Mean:\", mean) # Sample Mean: 69.58"
   ]
  },
  {
   "cell_type": "markdown",
   "metadata": {},
   "source": [
    "So, we have our mean length, 69.58, and this confirms our observations from the histogram. But we also have some outliers in our data above and we know outliers affect the mean calculation by pulling the mean value in their direction. So, let's remove these outliers and create a new list to see if our mean shifts or stays. We'll use a threshold of 80 inches, i.e. filter out any values greater than 80. \n",
    " \n",
    "Perform following tasks:\n",
    "\n",
    "* Create a function `filter_height_outliers` that takes a list as an argument\n",
    "* Perform a `for` loop to iteratively check and append values to a new list if the value is less than 80, for every element in the original list\n",
    "* Return the new list "
   ]
  },
  {
   "cell_type": "code",
   "execution_count": 9,
   "metadata": {},
   "outputs": [
    {
     "data": {
      "text/plain": [
       "[60, 70]"
      ]
     },
     "execution_count": 9,
     "metadata": {},
     "output_type": "execute_result"
    }
   ],
   "source": [
    "def filter_height_outliers(data):\n",
    "    \n",
    "    filtered_data = []\n",
    "    \n",
    "    # Perform filtering here\n",
    "    for item in data:\n",
    "        if item < 80:\n",
    "            filtered_data.append(item)\n",
    "    \n",
    "    return filtered_data\n",
    "\n",
    "test = [60, 70, 80, 90]\n",
    "filter_height_outliers(test) # [60, 70]"
   ]
  },
  {
   "cell_type": "markdown",
   "metadata": {},
   "source": [
    "Great, now we can use `filter_height_outliers()` to filter our `height` list and plot a new histogram to see if things change considerably.  "
   ]
  },
  {
   "cell_type": "code",
   "execution_count": 11,
   "metadata": {},
   "outputs": [
    {
     "data": {
      "text/plain": [
       "4347"
      ]
     },
     "execution_count": 11,
     "metadata": {},
     "output_type": "execute_result"
    }
   ],
   "source": [
    "# Filter the height list using the above function\n",
    "# Replace None with appropriate code\n",
    "filtered_height = filter_height_outliers(height)\n",
    "\n",
    "len(filtered_height) # 4347"
   ]
  },
  {
   "cell_type": "markdown",
   "metadata": {},
   "source": [
    "Now that we have filtered the outliers out of our data and reduced the size of the dataset from 4785 to 4347, let's recreate our histogram with 8 bins using our filtered data. \n",
    "\n",
    "**_NOTE_**: You do not need to reimport `matplotlib.pyplot as plt` -- once it's been imported, it's stored in memory and can be accessed whenever we like in other cells. "
   ]
  },
  {
   "cell_type": "code",
   "execution_count": 13,
   "metadata": {},
   "outputs": [
    {
     "data": {
      "image/png": "[encoded data removed]",
      "text/plain": [
       "<Figure size 432x288 with 1 Axes>"
      ]
     },
     "metadata": {
      "needs_background": "light"
     },
     "output_type": "display_data"
    }
   ],
   "source": [
    "# Replace None with appropriate code\n",
    "# A histogram should display below\n",
    "plt.hist(filtered_height, bins=8, edgecolor='black');"
   ]
  },
  {
   "cell_type": "markdown",
   "metadata": {},
   "source": [
    "Since we've filtered our data to remove outliers, we should also recalculate the mean.  Do this now in the cell below, using our `get_mean()` function. "
   ]
  },
  {
   "cell_type": "code",
   "execution_count": 15,
   "metadata": {},
   "outputs": [
    {
     "data": {
      "text/plain": [
       "66.85"
      ]
     },
     "execution_count": 15,
     "metadata": {},
     "output_type": "execute_result"
    }
   ],
   "source": [
    "# Replace None with appropriate code\n",
    "new_mean = get_mean(filtered_height)\n",
    "\n",
    "new_mean # 66.85"
   ]
  },
  {
   "cell_type": "code",
   "execution_count": 20,
   "metadata": {},
   "outputs": [
    {
     "data": {
      "text/plain": [
       "[59,\n",
       " 59,\n",
       " 59,\n",
       " 59,\n",
       " 59,\n",
       " 59,\n",
       " 59,\n",
       " 59,\n",
       " 59,\n",
       " 59,\n",
       " 59,\n",
       " 59,\n",
       " 59,\n",
       " 59,\n",
       " 59,\n",
       " 59,\n",
       " 59,\n",
       " 59,\n",
       " 59,\n",
       " 59,\n",
       " 59,\n",
       " 59,\n",
       " 59,\n",
       " 59,\n",
       " 59,\n",
       " 59,\n",
       " 59,\n",
       " 59,\n",
       " 59,\n",
       " 59,\n",
       " 59,\n",
       " 59,\n",
       " 59,\n",
       " 59,\n",
       " 59,\n",
       " 59,\n",
       " 59,\n",
       " 59,\n",
       " 59,\n",
       " 59,\n",
       " 59,\n",
       " 59,\n",
       " 59,\n",
       " 59,\n",
       " 59,\n",
       " 59,\n",
       " 59,\n",
       " 59,\n",
       " 59,\n",
       " 59,\n",
       " 59,\n",
       " 59,\n",
       " 60,\n",
       " 60,\n",
       " 60,\n",
       " 60,\n",
       " 60,\n",
       " 60,\n",
       " 60,\n",
       " 60,\n",
       " 60,\n",
       " 60,\n",
       " 60,\n",
       " 60,\n",
       " 60,\n",
       " 60,\n",
       " 60,\n",
       " 60,\n",
       " 60,\n",
       " 60,\n",
       " 60,\n",
       " 60,\n",
       " 60,\n",
       " 60,\n",
       " 60,\n",
       " 60,\n",
       " 60,\n",
       " 60,\n",
       " 60,\n",
       " 60,\n",
       " 60,\n",
       " 60,\n",
       " 60,\n",
       " 60,\n",
       " 60,\n",
       " 60,\n",
       " 60,\n",
       " 60,\n",
       " 60,\n",
       " 60,\n",
       " 60,\n",
       " 60,\n",
       " 60,\n",
       " 60,\n",
       " 60,\n",
       " 60,\n",
       " 60,\n",
       " 60,\n",
       " 60,\n",
       " 60,\n",
       " 60,\n",
       " 60,\n",
       " 60,\n",
       " 60,\n",
       " 60,\n",
       " 60,\n",
       " 60,\n",
       " 60,\n",
       " 60,\n",
       " 60,\n",
       " 60,\n",
       " 60,\n",
       " 60,\n",
       " 60,\n",
       " 60,\n",
       " 60,\n",
       " 60,\n",
       " 60,\n",
       " 60,\n",
       " 60,\n",
       " 60,\n",
       " 60,\n",
       " 60,\n",
       " 60,\n",
       " 60,\n",
       " 60,\n",
       " 60,\n",
       " 60,\n",
       " 60,\n",
       " 60,\n",
       " 60,\n",
       " 60,\n",
       " 60,\n",
       " 60,\n",
       " 60,\n",
       " 60,\n",
       " 60,\n",
       " 60,\n",
       " 60,\n",
       " 60,\n",
       " 60,\n",
       " 60,\n",
       " 60,\n",
       " 60,\n",
       " 60,\n",
       " 60,\n",
       " 60,\n",
       " 60,\n",
       " 60,\n",
       " 60,\n",
       " 60,\n",
       " 60,\n",
       " 60,\n",
       " 60,\n",
       " 60,\n",
       " 60,\n",
       " 60,\n",
       " 60,\n",
       " 60,\n",
       " 60,\n",
       " 60,\n",
       " 60,\n",
       " 60,\n",
       " 60,\n",
       " 60,\n",
       " 60,\n",
       " 60,\n",
       " 60,\n",
       " 60,\n",
       " 60,\n",
       " 60,\n",
       " 60,\n",
       " 60,\n",
       " 60,\n",
       " 60,\n",
       " 60,\n",
       " 60,\n",
       " 60,\n",
       " 60,\n",
       " 60,\n",
       " 60,\n",
       " 60,\n",
       " 60,\n",
       " 60,\n",
       " 60,\n",
       " 61,\n",
       " 61,\n",
       " 61,\n",
       " 61,\n",
       " 61,\n",
       " 61,\n",
       " 61,\n",
       " 61,\n",
       " 61,\n",
       " 61,\n",
       " 61,\n",
       " 61,\n",
       " 61,\n",
       " 61,\n",
       " 61,\n",
       " 61,\n",
       " 61,\n",
       " 61,\n",
       " 61,\n",
       " 61,\n",
       " 61,\n",
       " 61,\n",
       " 61,\n",
       " 61,\n",
       " 61,\n",
       " 61,\n",
       " 61,\n",
       " 61,\n",
       " 61,\n",
       " 61,\n",
       " 61,\n",
       " 61,\n",
       " 61,\n",
       " 61,\n",
       " 61,\n",
       " 61,\n",
       " 61,\n",
       " 61,\n",
       " 61,\n",
       " 61,\n",
       " 61,\n",
       " 61,\n",
       " 61,\n",
       " 61,\n",
       " 61,\n",
       " 61,\n",
       " 61,\n",
       " 61,\n",
       " 61,\n",
       " 61,\n",
       " 61,\n",
       " 61,\n",
       " 61,\n",
       " 61,\n",
       " 61,\n",
       " 61,\n",
       " 61,\n",
       " 61,\n",
       " 61,\n",
       " 61,\n",
       " 61,\n",
       " 61,\n",
       " 61,\n",
       " 61,\n",
       " 61,\n",
       " 61,\n",
       " 61,\n",
       " 61,\n",
       " 61,\n",
       " 61,\n",
       " 61,\n",
       " 61,\n",
       " 61,\n",
       " 61,\n",
       " 61,\n",
       " 61,\n",
       " 61,\n",
       " 61,\n",
       " 61,\n",
       " 61,\n",
       " 61,\n",
       " 61,\n",
       " 61,\n",
       " 61,\n",
       " 61,\n",
       " 61,\n",
       " 61,\n",
       " 61,\n",
       " 61,\n",
       " 61,\n",
       " 61,\n",
       " 61,\n",
       " 61,\n",
       " 61,\n",
       " 61,\n",
       " 61,\n",
       " 61,\n",
       " 61,\n",
       " 61,\n",
       " 61,\n",
       " 61,\n",
       " 61,\n",
       " 61,\n",
       " 61,\n",
       " 61,\n",
       " 61,\n",
       " 61,\n",
       " 61,\n",
       " 61,\n",
       " 61,\n",
       " 61,\n",
       " 61,\n",
       " 61,\n",
       " 61,\n",
       " 61,\n",
       " 61,\n",
       " 61,\n",
       " 61,\n",
       " 61,\n",
       " 61,\n",
       " 61,\n",
       " 61,\n",
       " 61,\n",
       " 61,\n",
       " 61,\n",
       " 61,\n",
       " 61,\n",
       " 61,\n",
       " 61,\n",
       " 61,\n",
       " 61,\n",
       " 61,\n",
       " 61,\n",
       " 61,\n",
       " 61,\n",
       " 61,\n",
       " 61,\n",
       " 61,\n",
       " 61,\n",
       " 61,\n",
       " 61,\n",
       " 61,\n",
       " 61,\n",
       " 61,\n",
       " 61,\n",
       " 61,\n",
       " 61,\n",
       " 61,\n",
       " 61,\n",
       " 61,\n",
       " 61,\n",
       " 61,\n",
       " 61,\n",
       " 61,\n",
       " 61,\n",
       " 61,\n",
       " 61,\n",
       " 62,\n",
       " 62,\n",
       " 62,\n",
       " 62,\n",
       " 62,\n",
       " 62,\n",
       " 62,\n",
       " 62,\n",
       " 62,\n",
       " 62,\n",
       " 62,\n",
       " 62,\n",
       " 62,\n",
       " 62,\n",
       " 62,\n",
       " 62,\n",
       " 62,\n",
       " 62,\n",
       " 62,\n",
       " 62,\n",
       " 62,\n",
       " 62,\n",
       " 62,\n",
       " 62,\n",
       " 62,\n",
       " 62,\n",
       " 62,\n",
       " 62,\n",
       " 62,\n",
       " 62,\n",
       " 62,\n",
       " 62,\n",
       " 62,\n",
       " 62,\n",
       " 62,\n",
       " 62,\n",
       " 62,\n",
       " 62,\n",
       " 62,\n",
       " 62,\n",
       " 62,\n",
       " 62,\n",
       " 62,\n",
       " 62,\n",
       " 62,\n",
       " 62,\n",
       " 62,\n",
       " 62,\n",
       " 62,\n",
       " 62,\n",
       " 62,\n",
       " 62,\n",
       " 62,\n",
       " 62,\n",
       " 62,\n",
       " 62,\n",
       " 62,\n",
       " 62,\n",
       " 62,\n",
       " 62,\n",
       " 62,\n",
       " 62,\n",
       " 62,\n",
       " 62,\n",
       " 62,\n",
       " 62,\n",
       " 62,\n",
       " 62,\n",
       " 62,\n",
       " 62,\n",
       " 62,\n",
       " 62,\n",
       " 62,\n",
       " 62,\n",
       " 62,\n",
       " 62,\n",
       " 62,\n",
       " 62,\n",
       " 62,\n",
       " 62,\n",
       " 62,\n",
       " 62,\n",
       " 62,\n",
       " 62,\n",
       " 62,\n",
       " 62,\n",
       " 62,\n",
       " 62,\n",
       " 62,\n",
       " 62,\n",
       " 62,\n",
       " 62,\n",
       " 62,\n",
       " 62,\n",
       " 62,\n",
       " 62,\n",
       " 62,\n",
       " 62,\n",
       " 62,\n",
       " 62,\n",
       " 62,\n",
       " 62,\n",
       " 62,\n",
       " 62,\n",
       " 62,\n",
       " 62,\n",
       " 62,\n",
       " 62,\n",
       " 62,\n",
       " 62,\n",
       " 62,\n",
       " 62,\n",
       " 62,\n",
       " 62,\n",
       " 62,\n",
       " 62,\n",
       " 62,\n",
       " 62,\n",
       " 62,\n",
       " 62,\n",
       " 62,\n",
       " 62,\n",
       " 62,\n",
       " 62,\n",
       " 62,\n",
       " 62,\n",
       " 62,\n",
       " 62,\n",
       " 62,\n",
       " 62,\n",
       " 62,\n",
       " 62,\n",
       " 62,\n",
       " 62,\n",
       " 62,\n",
       " 62,\n",
       " 62,\n",
       " 62,\n",
       " 62,\n",
       " 62,\n",
       " 62,\n",
       " 62,\n",
       " 62,\n",
       " 62,\n",
       " 62,\n",
       " 62,\n",
       " 62,\n",
       " 62,\n",
       " 62,\n",
       " 62,\n",
       " 62,\n",
       " 62,\n",
       " 62,\n",
       " 62,\n",
       " 62,\n",
       " 62,\n",
       " 62,\n",
       " 62,\n",
       " 62,\n",
       " 62,\n",
       " 62,\n",
       " 62,\n",
       " 62,\n",
       " 62,\n",
       " 62,\n",
       " 62,\n",
       " 62,\n",
       " 62,\n",
       " 62,\n",
       " 62,\n",
       " 62,\n",
       " 62,\n",
       " 62,\n",
       " 62,\n",
       " 62,\n",
       " 62,\n",
       " 62,\n",
       " 62,\n",
       " 62,\n",
       " 62,\n",
       " 62,\n",
       " 62,\n",
       " 62,\n",
       " 62,\n",
       " 62,\n",
       " 62,\n",
       " 62,\n",
       " 62,\n",
       " 62,\n",
       " 62,\n",
       " 62,\n",
       " 62,\n",
       " 62,\n",
       " 62,\n",
       " 62,\n",
       " 62,\n",
       " 62,\n",
       " 62,\n",
       " 62,\n",
       " 62,\n",
       " 62,\n",
       " 62,\n",
       " 62,\n",
       " 62,\n",
       " 62,\n",
       " 62,\n",
       " 62,\n",
       " 62,\n",
       " 62,\n",
       " 62,\n",
       " 62,\n",
       " 62,\n",
       " 62,\n",
       " 62,\n",
       " 62,\n",
       " 62,\n",
       " 62,\n",
       " 62,\n",
       " 62,\n",
       " 62,\n",
       " 62,\n",
       " 62,\n",
       " 62,\n",
       " 62,\n",
       " 62,\n",
       " 62,\n",
       " 62,\n",
       " 62,\n",
       " 62,\n",
       " 62,\n",
       " 62,\n",
       " 62,\n",
       " 62,\n",
       " 62,\n",
       " 62,\n",
       " 62,\n",
       " 62,\n",
       " 62,\n",
       " 62,\n",
       " 62,\n",
       " 62,\n",
       " 62,\n",
       " 62,\n",
       " 62,\n",
       " 62,\n",
       " 62,\n",
       " 62,\n",
       " 62,\n",
       " 62,\n",
       " 62,\n",
       " 62,\n",
       " 62,\n",
       " 62,\n",
       " 62,\n",
       " 62,\n",
       " 62,\n",
       " 62,\n",
       " 62,\n",
       " 62,\n",
       " 62,\n",
       " 62,\n",
       " 62,\n",
       " 62,\n",
       " 62,\n",
       " 62,\n",
       " 62,\n",
       " 62,\n",
       " 62,\n",
       " 62,\n",
       " 63,\n",
       " 63,\n",
       " 63,\n",
       " 63,\n",
       " 63,\n",
       " 63,\n",
       " 63,\n",
       " 63,\n",
       " 63,\n",
       " 63,\n",
       " 63,\n",
       " 63,\n",
       " 63,\n",
       " 63,\n",
       " 63,\n",
       " 63,\n",
       " 63,\n",
       " 63,\n",
       " 63,\n",
       " 63,\n",
       " 63,\n",
       " 63,\n",
       " 63,\n",
       " 63,\n",
       " 63,\n",
       " 63,\n",
       " 63,\n",
       " 63,\n",
       " 63,\n",
       " 63,\n",
       " 63,\n",
       " 63,\n",
       " 63,\n",
       " 63,\n",
       " 63,\n",
       " 63,\n",
       " 63,\n",
       " 63,\n",
       " 63,\n",
       " 63,\n",
       " 63,\n",
       " 63,\n",
       " 63,\n",
       " 63,\n",
       " 63,\n",
       " 63,\n",
       " 63,\n",
       " 63,\n",
       " 63,\n",
       " 63,\n",
       " 63,\n",
       " 63,\n",
       " 63,\n",
       " 63,\n",
       " 63,\n",
       " 63,\n",
       " 63,\n",
       " 63,\n",
       " 63,\n",
       " 63,\n",
       " 63,\n",
       " 63,\n",
       " 63,\n",
       " 63,\n",
       " 63,\n",
       " 63,\n",
       " 63,\n",
       " 63,\n",
       " 63,\n",
       " 63,\n",
       " 63,\n",
       " 63,\n",
       " 63,\n",
       " 63,\n",
       " 63,\n",
       " 63,\n",
       " 63,\n",
       " 63,\n",
       " 63,\n",
       " 63,\n",
       " 63,\n",
       " 63,\n",
       " 63,\n",
       " 63,\n",
       " 63,\n",
       " 63,\n",
       " 63,\n",
       " 63,\n",
       " 63,\n",
       " 63,\n",
       " 63,\n",
       " 63,\n",
       " 63,\n",
       " 63,\n",
       " 63,\n",
       " 63,\n",
       " 63,\n",
       " 63,\n",
       " 63,\n",
       " 63,\n",
       " 63,\n",
       " 63,\n",
       " 63,\n",
       " 63,\n",
       " 63,\n",
       " 63,\n",
       " 63,\n",
       " 63,\n",
       " 63,\n",
       " 63,\n",
       " 63,\n",
       " 63,\n",
       " 63,\n",
       " 63,\n",
       " 63,\n",
       " 63,\n",
       " 63,\n",
       " 63,\n",
       " 63,\n",
       " 63,\n",
       " 63,\n",
       " 63,\n",
       " 63,\n",
       " 63,\n",
       " 63,\n",
       " 63,\n",
       " 63,\n",
       " 63,\n",
       " 63,\n",
       " 63,\n",
       " 63,\n",
       " 63,\n",
       " 63,\n",
       " 63,\n",
       " 63,\n",
       " 63,\n",
       " 63,\n",
       " 63,\n",
       " 63,\n",
       " 63,\n",
       " 63,\n",
       " 63,\n",
       " 63,\n",
       " 63,\n",
       " 63,\n",
       " 63,\n",
       " 63,\n",
       " 63,\n",
       " 63,\n",
       " 63,\n",
       " 63,\n",
       " 63,\n",
       " 63,\n",
       " 63,\n",
       " 63,\n",
       " 63,\n",
       " 63,\n",
       " 63,\n",
       " 63,\n",
       " 63,\n",
       " 63,\n",
       " 63,\n",
       " 63,\n",
       " 63,\n",
       " 63,\n",
       " 63,\n",
       " 63,\n",
       " 63,\n",
       " 63,\n",
       " 63,\n",
       " 63,\n",
       " 63,\n",
       " 63,\n",
       " 63,\n",
       " 63,\n",
       " 63,\n",
       " 63,\n",
       " 63,\n",
       " 63,\n",
       " 63,\n",
       " 63,\n",
       " 63,\n",
       " 63,\n",
       " 63,\n",
       " 63,\n",
       " 63,\n",
       " 63,\n",
       " 63,\n",
       " 63,\n",
       " 63,\n",
       " 63,\n",
       " 63,\n",
       " 63,\n",
       " 63,\n",
       " 63,\n",
       " 63,\n",
       " 63,\n",
       " 63,\n",
       " 63,\n",
       " 63,\n",
       " 63,\n",
       " 63,\n",
       " 63,\n",
       " 63,\n",
       " 63,\n",
       " 63,\n",
       " 63,\n",
       " 63,\n",
       " 63,\n",
       " 63,\n",
       " 63,\n",
       " 63,\n",
       " 63,\n",
       " 63,\n",
       " 63,\n",
       " 63,\n",
       " 63,\n",
       " 63,\n",
       " 63,\n",
       " 63,\n",
       " 63,\n",
       " 63,\n",
       " 63,\n",
       " 63,\n",
       " 63,\n",
       " 63,\n",
       " 63,\n",
       " 63,\n",
       " 63,\n",
       " 63,\n",
       " 63,\n",
       " 63,\n",
       " 63,\n",
       " 63,\n",
       " 63,\n",
       " 63,\n",
       " 63,\n",
       " 63,\n",
       " 63,\n",
       " 63,\n",
       " 63,\n",
       " 63,\n",
       " 63,\n",
       " 63,\n",
       " 63,\n",
       " 63,\n",
       " 63,\n",
       " 63,\n",
       " 63,\n",
       " 63,\n",
       " 63,\n",
       " 63,\n",
       " 63,\n",
       " 63,\n",
       " 63,\n",
       " 63,\n",
       " 63,\n",
       " 63,\n",
       " 63,\n",
       " 63,\n",
       " 63,\n",
       " 63,\n",
       " 63,\n",
       " 63,\n",
       " 63,\n",
       " 63,\n",
       " 63,\n",
       " 63,\n",
       " 63,\n",
       " 63,\n",
       " 63,\n",
       " 63,\n",
       " 63,\n",
       " 63,\n",
       " 63,\n",
       " 63,\n",
       " 63,\n",
       " 63,\n",
       " 63,\n",
       " 63,\n",
       " 63,\n",
       " 63,\n",
       " 63,\n",
       " 63,\n",
       " 63,\n",
       " 63,\n",
       " 63,\n",
       " 63,\n",
       " 63,\n",
       " 63,\n",
       " 63,\n",
       " 63,\n",
       " 63,\n",
       " 63,\n",
       " 63,\n",
       " 63,\n",
       " 63,\n",
       " 63,\n",
       " 63,\n",
       " 63,\n",
       " 63,\n",
       " 63,\n",
       " 63,\n",
       " 63,\n",
       " 63,\n",
       " 63,\n",
       " 64,\n",
       " 64,\n",
       " 64,\n",
       " 64,\n",
       " 64,\n",
       " 64,\n",
       " 64,\n",
       " 64,\n",
       " 64,\n",
       " 64,\n",
       " 64,\n",
       " 64,\n",
       " 64,\n",
       " 64,\n",
       " 64,\n",
       " 64,\n",
       " 64,\n",
       " 64,\n",
       " 64,\n",
       " 64,\n",
       " 64,\n",
       " 64,\n",
       " 64,\n",
       " 64,\n",
       " 64,\n",
       " 64,\n",
       " 64,\n",
       " 64,\n",
       " 64,\n",
       " 64,\n",
       " 64,\n",
       " 64,\n",
       " 64,\n",
       " 64,\n",
       " 64,\n",
       " 64,\n",
       " 64,\n",
       " 64,\n",
       " 64,\n",
       " 64,\n",
       " 64,\n",
       " 64,\n",
       " 64,\n",
       " 64,\n",
       " 64,\n",
       " 64,\n",
       " 64,\n",
       " 64,\n",
       " 64,\n",
       " 64,\n",
       " 64,\n",
       " 64,\n",
       " 64,\n",
       " 64,\n",
       " 64,\n",
       " 64,\n",
       " 64,\n",
       " 64,\n",
       " 64,\n",
       " 64,\n",
       " 64,\n",
       " 64,\n",
       " 64,\n",
       " 64,\n",
       " 64,\n",
       " 64,\n",
       " 64,\n",
       " 64,\n",
       " 64,\n",
       " 64,\n",
       " 64,\n",
       " 64,\n",
       " 64,\n",
       " 64,\n",
       " 64,\n",
       " 64,\n",
       " 64,\n",
       " 64,\n",
       " 64,\n",
       " 64,\n",
       " 64,\n",
       " 64,\n",
       " 64,\n",
       " ...]"
      ]
     },
     "execution_count": 20,
     "metadata": {},
     "output_type": "execute_result"
    }
   ],
   "source": [
    "filtered_height.sort()\n",
    "filtered_height"
   ]
  },
  {
   "cell_type": "markdown",
   "metadata": {},
   "source": [
    "Does the mean height of our filtered data match up with what we see in our histogram of our filtered data?\n",
    "\n",
    "Note that in some analytical situations we may not be able to exclude the outliers in such a naive manner. So, let's go ahead and calculate other measures of central tendency as well. We'll start by calculating the median value for our original (unfiltered) height data. \n",
    "\n",
    "### Calculating the Median \n",
    "\n",
    "The median is the value directly in the middle of the dataset. In statistical terms, this is the **_Median Quartile_**. If the dataset was sorted from lowest value to highest value, the median is the value that would be larger than the first 50% of the data, and smaller than the second 50%.\n",
    "\n",
    "If the dataset has an odd number of values, then the median is the middle number.\n",
    "If the dataset has an even number of values, then we take the mean of the middle two numbers.\n",
    "\n",
    "In the cell below, write a function that takes in a list of numbers and returns the median value for that dataset. Make sure you first check for even / odd number of data points and perform the computation accordingly. The best approach to calculate the median is as follows:\n",
    "\n",
    "1. Sort the data \n",
    "2. Check if the data has even or odd number of data points \n",
    "3. Calculate the median of the sorted data now that you know if the count is even or odd. \n",
    "\n",
    "Hints:\n",
    "\n",
    " - You can use the modulo operator `%` in Python to check if a value is even or odd -- odd numbers `% 2` (e.g. `5 % 2`) will equal `1`, while even numbers `% 2` (e.g. `4 % 2`) will equal `0`!\n",
    " - You can use integer division `//` to calculate the index -- for even numbers this just means that the result is an integer (e.g. `4 // 2` is `2` rather than `2.0`), while for odd numbers this means that the remainder is cut off (e.g. `7 // 2` is `3`, not `3.5`)"
   ]
  },
  {
   "cell_type": "code",
   "execution_count": 51,
   "metadata": {},
   "outputs": [
    {
     "name": "stdout",
     "output_type": "stream",
     "text": [
      "3\n",
      "2.5\n"
     ]
    }
   ],
   "source": [
    "def get_median(data):\n",
    "    # Replace None with appropriate code\n",
    "    data_sorted = sorted(data)\n",
    "    \n",
    "    # Your code here\n",
    "    # Calculate the length of the data\n",
    "    n = len(data_sorted)\n",
    "    \n",
    "    # Check for even/odd and perform calculations accordingly - use if-else \n",
    "    if n % 2 == 1: # Find if the length of elements is an Odd number \n",
    "        median = data_sorted[n // 2]\n",
    "    else:\n",
    "        median = (data_sorted[n // 2 - 1] + data_sorted[n // 2]) / 2\n",
    "    return median\n",
    "            \n",
    "test1 = [5, 4, 1, 3, 2]\n",
    "test2 = [4, 2, 3, 1]\n",
    "\n",
    "print(get_median(test1)) # 3\n",
    "print(get_median(test2)) # 2.5"
   ]
  },
  {
   "cell_type": "code",
   "execution_count": 36,
   "metadata": {},
   "outputs": [
    {
     "data": {
      "text/plain": [
       "67"
      ]
     },
     "execution_count": 36,
     "metadata": {},
     "output_type": "execute_result"
    }
   ],
   "source": [
    "data_sorted[2173]"
   ]
  },
  {
   "cell_type": "code",
   "execution_count": 43,
   "metadata": {},
   "outputs": [
    {
     "data": {
      "text/plain": [
       "1"
      ]
     },
     "execution_count": 43,
     "metadata": {},
     "output_type": "execute_result"
    }
   ],
   "source": [
    "n % 2"
   ]
  },
  {
   "cell_type": "code",
   "execution_count": 41,
   "metadata": {},
   "outputs": [
    {
     "data": {
      "text/plain": [
       "2173.5"
      ]
     },
     "execution_count": 41,
     "metadata": {},
     "output_type": "execute_result"
    }
   ],
   "source": [
    "n/2"
   ]
  },
  {
   "cell_type": "code",
   "execution_count": 39,
   "metadata": {},
   "outputs": [
    {
     "data": {
      "text/plain": [
       "2173"
      ]
     },
     "execution_count": 39,
     "metadata": {},
     "output_type": "execute_result"
    }
   ],
   "source": [
    "n // 2"
   ]
  },
  {
   "cell_type": "code",
   "execution_count": 38,
   "metadata": {},
   "outputs": [
    {
     "data": {
      "text/plain": [
       "2172"
      ]
     },
     "execution_count": 38,
     "metadata": {},
     "output_type": "execute_result"
    }
   ],
   "source": [
    "n // 2 - 1 # Find the prior index"
   ]
  },
  {
   "cell_type": "code",
   "execution_count": 37,
   "metadata": {},
   "outputs": [
    {
     "data": {
      "text/plain": [
       "67"
      ]
     },
     "execution_count": 37,
     "metadata": {},
     "output_type": "execute_result"
    }
   ],
   "source": [
    "data_sorted = filtered_height\n",
    "n = len(data_sorted)\n",
    "n // 2 # Getting the index of the median value\n",
    "data_sorted[n // 2] # Getting the value at the middle\n"
   ]
  },
  {
   "cell_type": "markdown",
   "metadata": {},
   "source": [
    "Great, now we can pass in our original `height` list to this function to check the median. "
   ]
  },
  {
   "cell_type": "code",
   "execution_count": 52,
   "metadata": {},
   "outputs": [
    {
     "data": {
      "text/plain": [
       "67"
      ]
     },
     "execution_count": 52,
     "metadata": {},
     "output_type": "execute_result"
    }
   ],
   "source": [
    "# Replace None with appropriate code\n",
    "median = get_median(height)\n",
    "\n",
    "median # 67"
   ]
  },
  {
   "cell_type": "markdown",
   "metadata": {},
   "source": [
    "So, we have 67, which is much closer to the filtered list mean (66.85) than the mean we calculated with actual list (69.58). So, median in this case seems to be a much better indicator of the central tendency found in the dataset. This makes sense because we've already learned that medians are less sensitive to outliers than mean values are! \n",
    "\n",
    "Next, we'll calculate the mode. This could give us better insight into the typical values in the dataset based on how frequent a value is.  \n",
    "\n",
    "### Calculating the Mode\n",
    "\n",
    "The mode is the value that shows up the most in a dataset. A dataset can have 0 or more modes. If no value shows up more than once, the dataset is considered to have no mode value. If two numbers show up the same number of times, that dataset is considered bimodal. Datasets where multiple values all show up the same number of times are considered multimodal.\n",
    "\n",
    "In the cell below, write a function that takes in a list of numbers and returns another list containing the mode value(s). In the case of only one mode, the list would have a single element. \n",
    "\n",
    "**_Hint_**: Building a **_frequency distribution_** table using dictionaries is probably the easiest way to approach this problem. Use each unique element from the height list as a key, and the frequency of this element as the value and build a dictionary. You can then simply identify the keys (heights) with maximum values. "
   ]
  },
  {
   "cell_type": "code",
   "execution_count": 57,
   "metadata": {},
   "outputs": [
    {
     "name": "stdout",
     "output_type": "stream",
     "text": [
      "[5]\n",
      "[1, 5]\n"
     ]
    }
   ],
   "source": [
    "def get_mode(data):\n",
    "    # Step 1: Create and populate frequency distribution\n",
    "    frequency_dict = {}\n",
    "    for value in data:\n",
    "        if value not in frequency_dict:\n",
    "            frequency_dict[value] = 1  # Initialize with frequency 1\n",
    "        else:\n",
    "            frequency_dict[value] += 1  # Increment frequency if already present\n",
    "    \n",
    "    # Step 2: Find the highest frequency\n",
    "    highest_freq = max(frequency_dict.values())\n",
    "    \n",
    "    # Step 3: Identify mode(s)\n",
    "    modes = [key for key, frequency in frequency_dict.items() if frequency == highest_freq]\n",
    "    \n",
    "    # Return the list of mode(s)\n",
    "    return modes\n",
    "\n",
    "\n",
    "test1 = [1, 2, 3, 5, 5, 4]\n",
    "test2 = [1, 1, 1, 2, 3, 4, 5, 5, 5]\n",
    "\n",
    "print(get_mode(test1)) # [5]\n",
    "print(get_mode(test2)) # [1, 5]"
   ]
  },
  {
   "cell_type": "code",
   "execution_count": 61,
   "metadata": {},
   "outputs": [
    {
     "name": "stdout",
     "output_type": "stream",
     "text": [
      "[5]\n",
      "[1, 5]\n"
     ]
    }
   ],
   "source": [
    "# Throughout this cell, replace None with appropriate code\n",
    "\n",
    "def get_mode(data):\n",
    "\n",
    "    # Create and populate frequency distribution\n",
    "    frequency_dict = {}\n",
    "    \n",
    "    for height in data:\n",
    "        # If an element is not in the dict, add it to the dict with value 1\n",
    "        # If an element is already in the dict, +1 the value in place\n",
    "        if height not in frequency_dict:\n",
    "            frequency_dict[height] = 1  # Initialize with frequency 1\n",
    "        else:\n",
    "            frequency_dict[height] += 1  # Increment frequency if already present\n",
    "    \n",
    "    # Find the frequency of the mode(s) by finding the largest\n",
    "    # value in frequency_dict\n",
    "    highest_freq = max(frequency_dict.values())\n",
    "    \n",
    "    # Create a list for mode values\n",
    "    modes = []\n",
    "    \n",
    "    # From the dictionary, add element(s) to the modes list with max frequency\n",
    "#     modes = [key for key, frequency in frequency_dict.items() if frequency == highest_freq]\n",
    "    for height, frequency in frequency_dict.items():\n",
    "        if frequency == highest_freq:\n",
    "            modes.append(height)\n",
    "\n",
    "    # Return the mode list \n",
    "    return modes\n",
    "\n",
    "test1 = [1, 2, 3, 5, 5, 4]\n",
    "test2 = [1, 1, 1, 2, 3, 4, 5, 5, 5]\n",
    "\n",
    "print(get_mode(test1)) # [5]\n",
    "print(get_mode(test2)) # [1, 5]"
   ]
  },
  {
   "cell_type": "markdown",
   "metadata": {},
   "source": [
    "That's done. Now you can use the above function to calculate the mode of the original `height` list to compare it with our mean and median values. "
   ]
  },
  {
   "cell_type": "code",
   "execution_count": 63,
   "metadata": {
    "scrolled": true
   },
   "outputs": [
    {
     "data": {
      "text/plain": [
       "[64]"
      ]
     },
     "execution_count": 63,
     "metadata": {},
     "output_type": "execute_result"
    }
   ],
   "source": [
    "# Replace None with appropriate code\n",
    "mode = get_mode(height)\n",
    "\n",
    "mode # [64]"
   ]
  },
  {
   "cell_type": "markdown",
   "metadata": {},
   "source": [
    "So, the mode value is much lower than our mean and median calculated earlier. What do you make of this? The answer to that could be subjective and depends on the problem. i.e. if your problem is to identify sizes for garments that would sell the most, you cannot disregard mode. However, if you want to get an idea about the general or typical height of individuals, you can probably still do that with the median and the average. \n",
    "\n",
    "To get an even clearer picture, we know we need to see how much the values deviate from the central values we have identified. We have seen variance and standard deviation before as measures of such dispersion. Let's have a go at these to strengthen our understanding of this data. \n",
    "\n",
    "## Measures of Dispersion\n",
    "\n",
    "### Calculating the Variance\n",
    "\n",
    "The formula for variance is: \n",
    "\n",
    "$$ \\Large s^2 = \\frac{1}{n - 1} \\sum_{i=1}^{n}(x_i - \\bar{x})^2 $$\n",
    "\n",
    "Note that this formula is for the **sample** variance. The formula is slightly different than the formula for calculating population variance. Read more about the difference [here](https://www.macroption.com/population-sample-variance-standard-deviation/). In the cell below, write a function that takes a list of numbers as input and returns the variance (rounded to two decimal places) of the sample as output."
   ]
  },
  {
   "cell_type": "code",
   "execution_count": 67,
   "metadata": {},
   "outputs": [
    {
     "name": "stdout",
     "output_type": "stream",
     "text": [
      "2.67\n",
      "3.33\n",
      "3.25\n"
     ]
    }
   ],
   "source": [
    "# Replace None with appropriate code\n",
    "\n",
    "def get_variance(sample):\n",
    "\n",
    "    # First, calculate the sample mean using get_mean()\n",
    "    sample_mean = get_mean(sample)\n",
    "    \n",
    "    sum_of_squares = 0\n",
    "    for height in sample:\n",
    "        # Now, calculate the sum of squares by subtracting the sample mean\n",
    "        # from each height, squaring the result, and adding it to the total\n",
    "        result = (height - sample_mean)**2\n",
    "        sum_of_squares += result\n",
    "        \n",
    "    # Divide the sum of squares by the number of items in the sample -1 to calculate variance \n",
    "    variance = sum_of_squares / (len(sample)-1)\n",
    "    \n",
    "    return round(variance, 2)\n",
    "\n",
    "test1 = [1, 2, 3, 5, 5, 4]\n",
    "test2 = [1, 1, 1, 2, 3, 4, 5, 5, 5]\n",
    "print(get_variance(test1)) # 2.67\n",
    "print(get_mean(test1)) # 3.33\n",
    "print(get_variance(test2)) # 3.25"
   ]
  },
  {
   "cell_type": "markdown",
   "metadata": {},
   "source": [
    "Now we can test the variance of our list `height` with our new `get_variance()` function. "
   ]
  },
  {
   "cell_type": "code",
   "execution_count": 68,
   "metadata": {},
   "outputs": [
    {
     "data": {
      "text/plain": [
       "87.74"
      ]
     },
     "execution_count": 68,
     "metadata": {},
     "output_type": "execute_result"
    }
   ],
   "source": [
    "# Replace None with appropriate code\n",
    "variance = get_variance(height)\n",
    "\n",
    "variance # 87.74"
   ]
  },
  {
   "cell_type": "markdown",
   "metadata": {},
   "source": [
    "So this value, as we learned earlier, tells us a bit about the deviation but not in the units of underlying data. This is because it squares the values of deviations. Standard deviation, however, can deal with this issue as it takes the square roots of differences. So that would probably be a bit more revealing. \n",
    "\n",
    "## Calculating the Standard Deviation\n",
    "\n",
    "In the cell below, write a function that takes a list of numbers as input and returns the standard deviation of that sample as output.\n",
    "\n",
    "Recall that the formula for Standard Deviation is:\n",
    "\n",
    "$$ \\Large s = \\sqrt{\\frac{1}{n-1} \\sum_{i=1}^{n}(x_i - \\bar{x})^2} $$\n",
    "\n",
    "To find the square root of a value in Python, you have two options (**either** approach will work):\n",
    "\n",
    "One option is the `sqrt()` function from `math` library:\n",
    "\n",
    "```python\n",
    "from math import sqrt\n",
    "sqrt(100) # 10.0\n",
    "```\n",
    "\n",
    "Alternatively, another approach would be to raise that number to the power of `0.5`:\n",
    "\n",
    "```python\n",
    "100**0.5 # 10.0\n",
    "```"
   ]
  },
  {
   "cell_type": "code",
   "execution_count": 69,
   "metadata": {},
   "outputs": [
    {
     "data": {
      "text/plain": [
       "84.03"
      ]
     },
     "execution_count": 69,
     "metadata": {},
     "output_type": "execute_result"
    }
   ],
   "source": [
    "# Replace None with appropriate code\n",
    "from math import sqrt\n",
    "\n",
    "def get_stddev(sample):\n",
    "    \n",
    "    stddev = sqrt(get_variance(sample)) # (get_variance(test1))**0.5\n",
    "    \n",
    "    return round(stddev, 2)\n",
    "\n",
    "test = [120,112,131,211,312,90]\n",
    "\n",
    "get_stddev(test) # 84.03"
   ]
  },
  {
   "cell_type": "markdown",
   "metadata": {},
   "source": [
    "So now we can finally calculate the standard deviation for our `height` list and inspect the results. "
   ]
  },
  {
   "cell_type": "code",
   "execution_count": 71,
   "metadata": {},
   "outputs": [
    {
     "data": {
      "text/plain": [
       "9.37"
      ]
     },
     "execution_count": 71,
     "metadata": {},
     "output_type": "execute_result"
    }
   ],
   "source": [
    "# Replace None with appropriate code\n",
    "standard_deviation = round(get_variance(height)**0.5, 2)\n",
    "\n",
    "standard_deviation # 9.37"
   ]
  },
  {
   "cell_type": "markdown",
   "metadata": {},
   "source": [
    "So 9.37 inches is the amount of deviation present in our dataset. As we are still including outlier values, this might be slightly affected but these results are now much more reliable. \n",
    "\n",
    "Finally, we will build a boxplot for height data and see if it agrees with our understanding for this data that we have developed up to this point. Use the `matplotlib`'s `boxplot()` function with height data and comment on the output."
   ]
  },
  {
   "cell_type": "code",
   "execution_count": 72,
   "metadata": {},
   "outputs": [
    {
     "data": {
      "image/png": "[encoded data removed]",
      "text/plain": [
       "<Figure size 432x288 with 1 Axes>"
      ]
     },
     "metadata": {
      "needs_background": "light"
     },
     "output_type": "display_data"
    }
   ],
   "source": [
    "# Replace None with appropriate code\n",
    "# A boxplot should display below\n",
    "plt.boxplot(filtered_height);"
   ]
  },
  {
   "cell_type": "code",
   "execution_count": 74,
   "metadata": {},
   "outputs": [
    {
     "data": {
      "text/plain": [
       "76.87"
      ]
     },
     "execution_count": 74,
     "metadata": {},
     "output_type": "execute_result"
    }
   ],
   "source": [
    "67.5 + 9.37"
   ]
  },
  {
   "cell_type": "code",
   "execution_count": 78,
   "metadata": {},
   "outputs": [
    {
     "data": {
      "text/plain": [
       "59"
      ]
     },
     "execution_count": 78,
     "metadata": {},
     "output_type": "execute_result"
    }
   ],
   "source": [
    "filtered_height[0]"
   ]
  },
  {
   "cell_type": "code",
   "execution_count": 79,
   "metadata": {},
   "outputs": [
    {
     "data": {
      "text/plain": [
       "76"
      ]
     },
     "execution_count": 79,
     "metadata": {},
     "output_type": "execute_result"
    }
   ],
   "source": [
    "filtered_height[-1]"
   ]
  },
  {
   "cell_type": "code",
   "execution_count": 73,
   "metadata": {},
   "outputs": [
    {
     "data": {
      "image/png": "[encoded data removed]",
      "text/plain": [
       "<Figure size 432x288 with 1 Axes>"
      ]
     },
     "metadata": {
      "needs_background": "light"
     },
     "output_type": "display_data"
    }
   ],
   "source": [
    "plt.boxplot(height);"
   ]
  },
  {
   "cell_type": "markdown",
   "metadata": {},
   "source": [
    "## Simplifying the Process with NumPy\n",
    "\n",
    "We hope writing these functions was a useful experience in terms of deepening your understanding of these statistical measures as well as sharpening your Python skills. However in reality there is almost never a need to write these kinds of functions \"by hand\", since libraries like NumPy and SciPy can typically handle them for us in a single line.\n",
    "\n",
    "Below is a demonstration of the same calculations performed above, written using Python libraries side-by-side with the results of the functions you've just written:"
   ]
  },
  {
   "cell_type": "code",
   "execution_count": 84,
   "metadata": {},
   "outputs": [
    {
     "name": "stdout",
     "output_type": "stream",
     "text": [
      "Mean:\n",
      "69.58 (our version)\n",
      "69.58 (NumPy version)\n",
      "\n",
      "Median:\n",
      "67 (our version)\n",
      "67.0 (NumPy version)\n",
      "\n",
      "Mode:\n",
      "[64] (our version)\n",
      "[64] (SciPy version)\n",
      "\n",
      "Variance:\n",
      "87.74 (our version)\n",
      "87.74 (NumPy version)\n",
      "\n",
      "Standard Deviation:\n",
      "9.37 (our version)\n",
      "9.37 (NumPy version)\n"
     ]
    }
   ],
   "source": [
    "# Run this cell without changes\n",
    "\n",
    "import numpy as np\n",
    "from scipy import stats\n",
    "\n",
    "print(\"Mean:\")\n",
    "print(mean, \"(our version)\")\n",
    "print(round(np.mean(height), 2), \"(NumPy version)\")\n",
    "print()\n",
    "print(\"Median:\")\n",
    "print(median, \"(our version)\")\n",
    "print(np.median(height), \"(NumPy version)\")\n",
    "print()\n",
    "print(\"Mode:\")\n",
    "print(mode, \"(our version)\")\n",
    "print(stats.mode(height).mode, \"(SciPy version)\")\n",
    "print()\n",
    "print(\"Variance:\")\n",
    "print(variance, \"(our version)\")\n",
    "print(round(np.var(height, ddof=1), 2), \"(NumPy version)\")\n",
    "print()\n",
    "print(\"Standard Deviation:\")\n",
    "print(standard_deviation, \"(our version)\")\n",
    "print(round(np.std(height, ddof=1), 2), \"(NumPy version)\")"
   ]
  },
  {
   "cell_type": "markdown",
   "metadata": {},
   "source": [
    "## Summary \n",
    "\n",
    "In this lab, we performed a basic, yet detailed, statistical analysis around measuring the tendencies of center and spread for a given dataset. We looked at building a number of functions to calculate different measures and also used some statistical visualizations to strengthen our intuitions around the dataset. We shall see how we can simplify this process as we study `numpy` and `pandas` libraries to ease out the programming load while calculating basic statistics. "
   ]
  }
 ],
 "metadata": {
  "kernelspec": {
   "display_name": "Python 3",
   "language": "python",
   "name": "python3"
  },
  "language_info": {
   "codemirror_mode": {
    "name": "ipython",
    "version": 3
   },
   "file_extension": ".py",
   "mimetype": "text/x-python",
   "name": "python",
   "nbconvert_exporter": "python",
   "pygments_lexer": "ipython3",
   "version": "3.8.5"
  },
  "toc": {
   "base_numbering": 1,
   "nav_menu": {},
   "number_sections": true,
   "sideBar": true,
   "skip_h1_title": false,
   "title_cell": "Table of Contents",
   "title_sidebar": "Contents",
   "toc_cell": false,
   "toc_position": {},
   "toc_section_display": true,
   "toc_window_display": false
  }
 },
 "nbformat": 4,
 "nbformat_minor": 2
}
